{
 "cells": [
  {
   "cell_type": "code",
   "execution_count": 1,
   "metadata": {},
   "outputs": [],
   "source": [
    "import pandas as pd\n",
    "import numpy as np\n",
    "import matplotlib.pyplot as plt\n",
    "%matplotlib inline\n",
    "import seaborn as sns"
   ]
  },
  {
   "cell_type": "code",
   "execution_count": 2,
   "metadata": {},
   "outputs": [
    {
     "data": {
      "text/html": [
       "<div>\n",
       "<style scoped>\n",
       "    .dataframe tbody tr th:only-of-type {\n",
       "        vertical-align: middle;\n",
       "    }\n",
       "\n",
       "    .dataframe tbody tr th {\n",
       "        vertical-align: top;\n",
       "    }\n",
       "\n",
       "    .dataframe thead th {\n",
       "        text-align: right;\n",
       "    }\n",
       "</style>\n",
       "<table border=\"1\" class=\"dataframe\">\n",
       "  <thead>\n",
       "    <tr style=\"text-align: right;\">\n",
       "      <th></th>\n",
       "      <th>A</th>\n",
       "      <th>B</th>\n",
       "      <th>C</th>\n",
       "      <th>D</th>\n",
       "      <th>E</th>\n",
       "      <th>G</th>\n",
       "      <th>time</th>\n",
       "    </tr>\n",
       "  </thead>\n",
       "  <tbody>\n",
       "    <tr>\n",
       "      <th>0</th>\n",
       "      <td>NaN</td>\n",
       "      <td>NaN</td>\n",
       "      <td>NaN</td>\n",
       "      <td>NaN</td>\n",
       "      <td>NaN</td>\n",
       "      <td>120.26</td>\n",
       "      <td>2008-01-01 00:00:00</td>\n",
       "    </tr>\n",
       "    <tr>\n",
       "      <th>1</th>\n",
       "      <td>NaN</td>\n",
       "      <td>NaN</td>\n",
       "      <td>124.84</td>\n",
       "      <td>99.12</td>\n",
       "      <td>NaN</td>\n",
       "      <td>130.95</td>\n",
       "      <td>2008-01-01 01:00:00</td>\n",
       "    </tr>\n",
       "    <tr>\n",
       "      <th>2</th>\n",
       "      <td>NaN</td>\n",
       "      <td>NaN</td>\n",
       "      <td>107.64</td>\n",
       "      <td>98.37</td>\n",
       "      <td>NaN</td>\n",
       "      <td>130.19</td>\n",
       "      <td>2008-01-01 02:00:00</td>\n",
       "    </tr>\n",
       "    <tr>\n",
       "      <th>3</th>\n",
       "      <td>NaN</td>\n",
       "      <td>NaN</td>\n",
       "      <td>107.80</td>\n",
       "      <td>89.33</td>\n",
       "      <td>NaN</td>\n",
       "      <td>121.46</td>\n",
       "      <td>2008-01-01 03:00:00</td>\n",
       "    </tr>\n",
       "    <tr>\n",
       "      <th>4</th>\n",
       "      <td>NaN</td>\n",
       "      <td>NaN</td>\n",
       "      <td>100.65</td>\n",
       "      <td>94.35</td>\n",
       "      <td>NaN</td>\n",
       "      <td>103.99</td>\n",
       "      <td>2008-01-01 04:00:00</td>\n",
       "    </tr>\n",
       "  </tbody>\n",
       "</table>\n",
       "</div>"
      ],
      "text/plain": [
       "    A   B       C      D   E       G                 time\n",
       "0 NaN NaN     NaN    NaN NaN  120.26  2008-01-01 00:00:00\n",
       "1 NaN NaN  124.84  99.12 NaN  130.95  2008-01-01 01:00:00\n",
       "2 NaN NaN  107.64  98.37 NaN  130.19  2008-01-01 02:00:00\n",
       "3 NaN NaN  107.80  89.33 NaN  121.46  2008-01-01 03:00:00\n",
       "4 NaN NaN  100.65  94.35 NaN  103.99  2008-01-01 04:00:00"
      ]
     },
     "execution_count": 2,
     "metadata": {},
     "output_type": "execute_result"
    }
   ],
   "source": [
    "pollution_data = pd.read_csv(\"pm10_data.csv\")\n",
    "pollution_data.head()"
   ]
  },
  {
   "cell_type": "code",
   "execution_count": 3,
   "metadata": {},
   "outputs": [
    {
     "name": "stdout",
     "output_type": "stream",
     "text": [
      "<class 'pandas.core.frame.DataFrame'>\n",
      "RangeIndex: 92246 entries, 0 to 92245\n",
      "Data columns (total 7 columns):\n",
      "A       55670 non-null float64\n",
      "B       50826 non-null float64\n",
      "C       64273 non-null float64\n",
      "D       82896 non-null float64\n",
      "E       65715 non-null float64\n",
      "G       76992 non-null float64\n",
      "time    92246 non-null object\n",
      "dtypes: float64(6), object(1)\n",
      "memory usage: 4.9+ MB\n"
     ]
    }
   ],
   "source": [
    "pollution_data.info()"
   ]
  },
  {
   "cell_type": "code",
   "execution_count": 4,
   "metadata": {},
   "outputs": [
    {
     "data": {
      "text/plain": [
       "str"
      ]
     },
     "execution_count": 4,
     "metadata": {},
     "output_type": "execute_result"
    }
   ],
   "source": [
    "type(pollution_data['time'][0])"
   ]
  },
  {
   "cell_type": "code",
   "execution_count": 5,
   "metadata": {
    "scrolled": true
   },
   "outputs": [
    {
     "data": {
      "text/html": [
       "<div>\n",
       "<style scoped>\n",
       "    .dataframe tbody tr th:only-of-type {\n",
       "        vertical-align: middle;\n",
       "    }\n",
       "\n",
       "    .dataframe tbody tr th {\n",
       "        vertical-align: top;\n",
       "    }\n",
       "\n",
       "    .dataframe thead th {\n",
       "        text-align: right;\n",
       "    }\n",
       "</style>\n",
       "<table border=\"1\" class=\"dataframe\">\n",
       "  <thead>\n",
       "    <tr style=\"text-align: right;\">\n",
       "      <th></th>\n",
       "      <th>A</th>\n",
       "      <th>B</th>\n",
       "      <th>C</th>\n",
       "      <th>D</th>\n",
       "      <th>E</th>\n",
       "      <th>G</th>\n",
       "    </tr>\n",
       "  </thead>\n",
       "  <tbody>\n",
       "    <tr>\n",
       "      <th>count</th>\n",
       "      <td>55670.000000</td>\n",
       "      <td>50826.000000</td>\n",
       "      <td>64273.000000</td>\n",
       "      <td>82896.000000</td>\n",
       "      <td>65715.000000</td>\n",
       "      <td>76992.000000</td>\n",
       "    </tr>\n",
       "    <tr>\n",
       "      <th>mean</th>\n",
       "      <td>72.715512</td>\n",
       "      <td>80.485886</td>\n",
       "      <td>67.513649</td>\n",
       "      <td>94.647895</td>\n",
       "      <td>50.960180</td>\n",
       "      <td>76.967020</td>\n",
       "    </tr>\n",
       "    <tr>\n",
       "      <th>std</th>\n",
       "      <td>78.001704</td>\n",
       "      <td>89.496704</td>\n",
       "      <td>75.114049</td>\n",
       "      <td>116.532024</td>\n",
       "      <td>51.317925</td>\n",
       "      <td>83.102787</td>\n",
       "    </tr>\n",
       "    <tr>\n",
       "      <th>min</th>\n",
       "      <td>0.000000</td>\n",
       "      <td>0.060000</td>\n",
       "      <td>0.000000</td>\n",
       "      <td>0.010000</td>\n",
       "      <td>0.053400</td>\n",
       "      <td>0.000000</td>\n",
       "    </tr>\n",
       "    <tr>\n",
       "      <th>25%</th>\n",
       "      <td>30.896075</td>\n",
       "      <td>27.490000</td>\n",
       "      <td>26.367200</td>\n",
       "      <td>31.514150</td>\n",
       "      <td>22.420000</td>\n",
       "      <td>29.470000</td>\n",
       "    </tr>\n",
       "    <tr>\n",
       "      <th>50%</th>\n",
       "      <td>45.912900</td>\n",
       "      <td>55.434950</td>\n",
       "      <td>42.420900</td>\n",
       "      <td>54.200000</td>\n",
       "      <td>35.360000</td>\n",
       "      <td>51.150000</td>\n",
       "    </tr>\n",
       "    <tr>\n",
       "      <th>75%</th>\n",
       "      <td>81.783725</td>\n",
       "      <td>99.607500</td>\n",
       "      <td>77.402000</td>\n",
       "      <td>105.622500</td>\n",
       "      <td>59.261950</td>\n",
       "      <td>91.870000</td>\n",
       "    </tr>\n",
       "    <tr>\n",
       "      <th>max</th>\n",
       "      <td>1093.080000</td>\n",
       "      <td>996.758000</td>\n",
       "      <td>1218.630000</td>\n",
       "      <td>994.319000</td>\n",
       "      <td>726.920000</td>\n",
       "      <td>997.229000</td>\n",
       "    </tr>\n",
       "  </tbody>\n",
       "</table>\n",
       "</div>"
      ],
      "text/plain": [
       "                  A             B             C             D             E  \\\n",
       "count  55670.000000  50826.000000  64273.000000  82896.000000  65715.000000   \n",
       "mean      72.715512     80.485886     67.513649     94.647895     50.960180   \n",
       "std       78.001704     89.496704     75.114049    116.532024     51.317925   \n",
       "min        0.000000      0.060000      0.000000      0.010000      0.053400   \n",
       "25%       30.896075     27.490000     26.367200     31.514150     22.420000   \n",
       "50%       45.912900     55.434950     42.420900     54.200000     35.360000   \n",
       "75%       81.783725     99.607500     77.402000    105.622500     59.261950   \n",
       "max     1093.080000    996.758000   1218.630000    994.319000    726.920000   \n",
       "\n",
       "                  G  \n",
       "count  76992.000000  \n",
       "mean      76.967020  \n",
       "std       83.102787  \n",
       "min        0.000000  \n",
       "25%       29.470000  \n",
       "50%       51.150000  \n",
       "75%       91.870000  \n",
       "max      997.229000  "
      ]
     },
     "execution_count": 5,
     "metadata": {},
     "output_type": "execute_result"
    }
   ],
   "source": [
    "pollution_data.describe()"
   ]
  },
  {
   "cell_type": "code",
   "execution_count": 6,
   "metadata": {},
   "outputs": [
    {
     "data": {
      "text/plain": [
       "['2008-01-01 00:00:00',\n",
       " '2008-01-01 01:00:00',\n",
       " '2008-01-01 02:00:00',\n",
       " '2008-01-01 03:00:00',\n",
       " '2008-01-01 04:00:00']"
      ]
     },
     "execution_count": 6,
     "metadata": {},
     "output_type": "execute_result"
    }
   ],
   "source": [
    "sorted(pollution_data['time'])[:5]"
   ]
  },
  {
   "cell_type": "code",
   "execution_count": 7,
   "metadata": {},
   "outputs": [
    {
     "data": {
      "text/html": [
       "<div>\n",
       "<style scoped>\n",
       "    .dataframe tbody tr th:only-of-type {\n",
       "        vertical-align: middle;\n",
       "    }\n",
       "\n",
       "    .dataframe tbody tr th {\n",
       "        vertical-align: top;\n",
       "    }\n",
       "\n",
       "    .dataframe thead th {\n",
       "        text-align: right;\n",
       "    }\n",
       "</style>\n",
       "<table border=\"1\" class=\"dataframe\">\n",
       "  <thead>\n",
       "    <tr style=\"text-align: right;\">\n",
       "      <th></th>\n",
       "      <th>A</th>\n",
       "      <th>B</th>\n",
       "      <th>C</th>\n",
       "      <th>D</th>\n",
       "      <th>E</th>\n",
       "      <th>G</th>\n",
       "      <th>time</th>\n",
       "    </tr>\n",
       "  </thead>\n",
       "  <tbody>\n",
       "    <tr>\n",
       "      <th>92241</th>\n",
       "      <td>46.6226</td>\n",
       "      <td>40.7500</td>\n",
       "      <td>51.1891</td>\n",
       "      <td>123.35</td>\n",
       "      <td>123.4600</td>\n",
       "      <td>180.13</td>\n",
       "      <td>2018-03-09 19:00:00</td>\n",
       "    </tr>\n",
       "    <tr>\n",
       "      <th>92242</th>\n",
       "      <td>63.5702</td>\n",
       "      <td>83.7000</td>\n",
       "      <td>90.9469</td>\n",
       "      <td>127.00</td>\n",
       "      <td>75.6299</td>\n",
       "      <td>218.63</td>\n",
       "      <td>2018-03-09 20:00:00</td>\n",
       "    </tr>\n",
       "    <tr>\n",
       "      <th>92243</th>\n",
       "      <td>78.3290</td>\n",
       "      <td>179.4600</td>\n",
       "      <td>124.1190</td>\n",
       "      <td>143.76</td>\n",
       "      <td>87.5499</td>\n",
       "      <td>113.49</td>\n",
       "      <td>2018-03-09 21:00:00</td>\n",
       "    </tr>\n",
       "    <tr>\n",
       "      <th>92244</th>\n",
       "      <td>82.0569</td>\n",
       "      <td>94.9099</td>\n",
       "      <td>74.9377</td>\n",
       "      <td>101.26</td>\n",
       "      <td>85.8500</td>\n",
       "      <td>98.12</td>\n",
       "      <td>2018-03-09 22:00:00</td>\n",
       "    </tr>\n",
       "    <tr>\n",
       "      <th>92245</th>\n",
       "      <td>65.4224</td>\n",
       "      <td>58.6800</td>\n",
       "      <td>69.2490</td>\n",
       "      <td>125.03</td>\n",
       "      <td>65.0900</td>\n",
       "      <td>95.21</td>\n",
       "      <td>2018-03-09 23:00:00</td>\n",
       "    </tr>\n",
       "  </tbody>\n",
       "</table>\n",
       "</div>"
      ],
      "text/plain": [
       "             A         B         C       D         E       G  \\\n",
       "92241  46.6226   40.7500   51.1891  123.35  123.4600  180.13   \n",
       "92242  63.5702   83.7000   90.9469  127.00   75.6299  218.63   \n",
       "92243  78.3290  179.4600  124.1190  143.76   87.5499  113.49   \n",
       "92244  82.0569   94.9099   74.9377  101.26   85.8500   98.12   \n",
       "92245  65.4224   58.6800   69.2490  125.03   65.0900   95.21   \n",
       "\n",
       "                      time  \n",
       "92241  2018-03-09 19:00:00  \n",
       "92242  2018-03-09 20:00:00  \n",
       "92243  2018-03-09 21:00:00  \n",
       "92244  2018-03-09 22:00:00  \n",
       "92245  2018-03-09 23:00:00  "
      ]
     },
     "execution_count": 7,
     "metadata": {},
     "output_type": "execute_result"
    }
   ],
   "source": [
    "pollution_data.tail()"
   ]
  },
  {
   "cell_type": "markdown",
   "metadata": {},
   "source": [
    "#### Observation - Data is recorded for 10 years from 2008-01-01 00:00 to 2018-03-09 23:00 hours"
   ]
  },
  {
   "cell_type": "code",
   "execution_count": 8,
   "metadata": {},
   "outputs": [],
   "source": [
    "df = pd.DataFrame(pollution_data)"
   ]
  },
  {
   "cell_type": "code",
   "execution_count": 9,
   "metadata": {},
   "outputs": [
    {
     "data": {
      "text/plain": [
       "Index(['A', 'B', 'C', 'D', 'E', 'G', 'time'], dtype='object')"
      ]
     },
     "execution_count": 9,
     "metadata": {},
     "output_type": "execute_result"
    }
   ],
   "source": [
    "df.columns"
   ]
  },
  {
   "cell_type": "code",
   "execution_count": 10,
   "metadata": {},
   "outputs": [
    {
     "data": {
      "text/html": [
       "<div>\n",
       "<style scoped>\n",
       "    .dataframe tbody tr th:only-of-type {\n",
       "        vertical-align: middle;\n",
       "    }\n",
       "\n",
       "    .dataframe tbody tr th {\n",
       "        vertical-align: top;\n",
       "    }\n",
       "\n",
       "    .dataframe thead th {\n",
       "        text-align: right;\n",
       "    }\n",
       "</style>\n",
       "<table border=\"1\" class=\"dataframe\">\n",
       "  <thead>\n",
       "    <tr style=\"text-align: right;\">\n",
       "      <th></th>\n",
       "      <th>A</th>\n",
       "      <th>B</th>\n",
       "      <th>C</th>\n",
       "      <th>D</th>\n",
       "      <th>E</th>\n",
       "      <th>G</th>\n",
       "      <th>time</th>\n",
       "    </tr>\n",
       "  </thead>\n",
       "  <tbody>\n",
       "    <tr>\n",
       "      <th>1600</th>\n",
       "      <td>185.2200</td>\n",
       "      <td>NaN</td>\n",
       "      <td>79.6200</td>\n",
       "      <td>58.7500</td>\n",
       "      <td>NaN</td>\n",
       "      <td>125.71</td>\n",
       "      <td>2008-03-05 16:00:00</td>\n",
       "    </tr>\n",
       "    <tr>\n",
       "      <th>1601</th>\n",
       "      <td>177.6700</td>\n",
       "      <td>NaN</td>\n",
       "      <td>82.4299</td>\n",
       "      <td>71.2799</td>\n",
       "      <td>NaN</td>\n",
       "      <td>155.75</td>\n",
       "      <td>2008-03-05 17:00:00</td>\n",
       "    </tr>\n",
       "    <tr>\n",
       "      <th>1602</th>\n",
       "      <td>138.5900</td>\n",
       "      <td>NaN</td>\n",
       "      <td>74.6699</td>\n",
       "      <td>88.3799</td>\n",
       "      <td>NaN</td>\n",
       "      <td>208.69</td>\n",
       "      <td>2008-03-05 18:00:00</td>\n",
       "    </tr>\n",
       "    <tr>\n",
       "      <th>1603</th>\n",
       "      <td>102.9000</td>\n",
       "      <td>NaN</td>\n",
       "      <td>54.3000</td>\n",
       "      <td>75.0499</td>\n",
       "      <td>NaN</td>\n",
       "      <td>169.86</td>\n",
       "      <td>2008-03-05 19:00:00</td>\n",
       "    </tr>\n",
       "    <tr>\n",
       "      <th>1604</th>\n",
       "      <td>110.4500</td>\n",
       "      <td>NaN</td>\n",
       "      <td>46.2100</td>\n",
       "      <td>58.0900</td>\n",
       "      <td>NaN</td>\n",
       "      <td>157.98</td>\n",
       "      <td>2008-03-05 20:00:00</td>\n",
       "    </tr>\n",
       "    <tr>\n",
       "      <th>...</th>\n",
       "      <td>...</td>\n",
       "      <td>...</td>\n",
       "      <td>...</td>\n",
       "      <td>...</td>\n",
       "      <td>...</td>\n",
       "      <td>...</td>\n",
       "      <td>...</td>\n",
       "    </tr>\n",
       "    <tr>\n",
       "      <th>92241</th>\n",
       "      <td>46.6226</td>\n",
       "      <td>40.7500</td>\n",
       "      <td>51.1891</td>\n",
       "      <td>123.3500</td>\n",
       "      <td>123.4600</td>\n",
       "      <td>180.13</td>\n",
       "      <td>2018-03-09 19:00:00</td>\n",
       "    </tr>\n",
       "    <tr>\n",
       "      <th>92242</th>\n",
       "      <td>63.5702</td>\n",
       "      <td>83.7000</td>\n",
       "      <td>90.9469</td>\n",
       "      <td>127.0000</td>\n",
       "      <td>75.6299</td>\n",
       "      <td>218.63</td>\n",
       "      <td>2018-03-09 20:00:00</td>\n",
       "    </tr>\n",
       "    <tr>\n",
       "      <th>92243</th>\n",
       "      <td>78.3290</td>\n",
       "      <td>179.4600</td>\n",
       "      <td>124.1190</td>\n",
       "      <td>143.7600</td>\n",
       "      <td>87.5499</td>\n",
       "      <td>113.49</td>\n",
       "      <td>2018-03-09 21:00:00</td>\n",
       "    </tr>\n",
       "    <tr>\n",
       "      <th>92244</th>\n",
       "      <td>82.0569</td>\n",
       "      <td>94.9099</td>\n",
       "      <td>74.9377</td>\n",
       "      <td>101.2600</td>\n",
       "      <td>85.8500</td>\n",
       "      <td>98.12</td>\n",
       "      <td>2018-03-09 22:00:00</td>\n",
       "    </tr>\n",
       "    <tr>\n",
       "      <th>92245</th>\n",
       "      <td>65.4224</td>\n",
       "      <td>58.6800</td>\n",
       "      <td>69.2490</td>\n",
       "      <td>125.0300</td>\n",
       "      <td>65.0900</td>\n",
       "      <td>95.21</td>\n",
       "      <td>2018-03-09 23:00:00</td>\n",
       "    </tr>\n",
       "  </tbody>\n",
       "</table>\n",
       "<p>55670 rows × 7 columns</p>\n",
       "</div>"
      ],
      "text/plain": [
       "              A         B         C         D         E       G  \\\n",
       "1600   185.2200       NaN   79.6200   58.7500       NaN  125.71   \n",
       "1601   177.6700       NaN   82.4299   71.2799       NaN  155.75   \n",
       "1602   138.5900       NaN   74.6699   88.3799       NaN  208.69   \n",
       "1603   102.9000       NaN   54.3000   75.0499       NaN  169.86   \n",
       "1604   110.4500       NaN   46.2100   58.0900       NaN  157.98   \n",
       "...         ...       ...       ...       ...       ...     ...   \n",
       "92241   46.6226   40.7500   51.1891  123.3500  123.4600  180.13   \n",
       "92242   63.5702   83.7000   90.9469  127.0000   75.6299  218.63   \n",
       "92243   78.3290  179.4600  124.1190  143.7600   87.5499  113.49   \n",
       "92244   82.0569   94.9099   74.9377  101.2600   85.8500   98.12   \n",
       "92245   65.4224   58.6800   69.2490  125.0300   65.0900   95.21   \n",
       "\n",
       "                      time  \n",
       "1600   2008-03-05 16:00:00  \n",
       "1601   2008-03-05 17:00:00  \n",
       "1602   2008-03-05 18:00:00  \n",
       "1603   2008-03-05 19:00:00  \n",
       "1604   2008-03-05 20:00:00  \n",
       "...                    ...  \n",
       "92241  2018-03-09 19:00:00  \n",
       "92242  2018-03-09 20:00:00  \n",
       "92243  2018-03-09 21:00:00  \n",
       "92244  2018-03-09 22:00:00  \n",
       "92245  2018-03-09 23:00:00  \n",
       "\n",
       "[55670 rows x 7 columns]"
      ]
     },
     "execution_count": 10,
     "metadata": {},
     "output_type": "execute_result"
    }
   ],
   "source": [
    "poll_bool_A = df.A.notnull()\n",
    "pollution_data[poll_bool_A]"
   ]
  },
  {
   "cell_type": "markdown",
   "metadata": {},
   "source": [
    "#### Observation - Station A started recoding air pollution from 2008-03-05 16:00 hours"
   ]
  },
  {
   "cell_type": "code",
   "execution_count": 11,
   "metadata": {},
   "outputs": [
    {
     "data": {
      "text/html": [
       "<div>\n",
       "<style scoped>\n",
       "    .dataframe tbody tr th:only-of-type {\n",
       "        vertical-align: middle;\n",
       "    }\n",
       "\n",
       "    .dataframe tbody tr th {\n",
       "        vertical-align: top;\n",
       "    }\n",
       "\n",
       "    .dataframe thead th {\n",
       "        text-align: right;\n",
       "    }\n",
       "</style>\n",
       "<table border=\"1\" class=\"dataframe\">\n",
       "  <thead>\n",
       "    <tr style=\"text-align: right;\">\n",
       "      <th></th>\n",
       "      <th>A</th>\n",
       "      <th>B</th>\n",
       "      <th>C</th>\n",
       "      <th>D</th>\n",
       "      <th>E</th>\n",
       "      <th>G</th>\n",
       "      <th>time</th>\n",
       "    </tr>\n",
       "  </thead>\n",
       "  <tbody>\n",
       "    <tr>\n",
       "      <th>9588</th>\n",
       "      <td>NaN</td>\n",
       "      <td>141.2900</td>\n",
       "      <td>NaN</td>\n",
       "      <td>175.04</td>\n",
       "      <td>36.0600</td>\n",
       "      <td>185.45</td>\n",
       "      <td>2009-01-22 13:00:00</td>\n",
       "    </tr>\n",
       "    <tr>\n",
       "      <th>9589</th>\n",
       "      <td>NaN</td>\n",
       "      <td>111.7200</td>\n",
       "      <td>NaN</td>\n",
       "      <td>121.47</td>\n",
       "      <td>33.7000</td>\n",
       "      <td>193.17</td>\n",
       "      <td>2009-01-22 14:00:00</td>\n",
       "    </tr>\n",
       "    <tr>\n",
       "      <th>9590</th>\n",
       "      <td>NaN</td>\n",
       "      <td>104.4100</td>\n",
       "      <td>NaN</td>\n",
       "      <td>153.56</td>\n",
       "      <td>56.8000</td>\n",
       "      <td>201.58</td>\n",
       "      <td>2009-01-22 15:00:00</td>\n",
       "    </tr>\n",
       "    <tr>\n",
       "      <th>9591</th>\n",
       "      <td>NaN</td>\n",
       "      <td>102.0400</td>\n",
       "      <td>NaN</td>\n",
       "      <td>170.30</td>\n",
       "      <td>62.1000</td>\n",
       "      <td>187.04</td>\n",
       "      <td>2009-01-22 16:00:00</td>\n",
       "    </tr>\n",
       "    <tr>\n",
       "      <th>9592</th>\n",
       "      <td>NaN</td>\n",
       "      <td>90.5000</td>\n",
       "      <td>NaN</td>\n",
       "      <td>168.61</td>\n",
       "      <td>53.4399</td>\n",
       "      <td>227.66</td>\n",
       "      <td>2009-01-22 17:00:00</td>\n",
       "    </tr>\n",
       "    <tr>\n",
       "      <th>...</th>\n",
       "      <td>...</td>\n",
       "      <td>...</td>\n",
       "      <td>...</td>\n",
       "      <td>...</td>\n",
       "      <td>...</td>\n",
       "      <td>...</td>\n",
       "      <td>...</td>\n",
       "    </tr>\n",
       "    <tr>\n",
       "      <th>92241</th>\n",
       "      <td>46.6226</td>\n",
       "      <td>40.7500</td>\n",
       "      <td>51.1891</td>\n",
       "      <td>123.35</td>\n",
       "      <td>123.4600</td>\n",
       "      <td>180.13</td>\n",
       "      <td>2018-03-09 19:00:00</td>\n",
       "    </tr>\n",
       "    <tr>\n",
       "      <th>92242</th>\n",
       "      <td>63.5702</td>\n",
       "      <td>83.7000</td>\n",
       "      <td>90.9469</td>\n",
       "      <td>127.00</td>\n",
       "      <td>75.6299</td>\n",
       "      <td>218.63</td>\n",
       "      <td>2018-03-09 20:00:00</td>\n",
       "    </tr>\n",
       "    <tr>\n",
       "      <th>92243</th>\n",
       "      <td>78.3290</td>\n",
       "      <td>179.4600</td>\n",
       "      <td>124.1190</td>\n",
       "      <td>143.76</td>\n",
       "      <td>87.5499</td>\n",
       "      <td>113.49</td>\n",
       "      <td>2018-03-09 21:00:00</td>\n",
       "    </tr>\n",
       "    <tr>\n",
       "      <th>92244</th>\n",
       "      <td>82.0569</td>\n",
       "      <td>94.9099</td>\n",
       "      <td>74.9377</td>\n",
       "      <td>101.26</td>\n",
       "      <td>85.8500</td>\n",
       "      <td>98.12</td>\n",
       "      <td>2018-03-09 22:00:00</td>\n",
       "    </tr>\n",
       "    <tr>\n",
       "      <th>92245</th>\n",
       "      <td>65.4224</td>\n",
       "      <td>58.6800</td>\n",
       "      <td>69.2490</td>\n",
       "      <td>125.03</td>\n",
       "      <td>65.0900</td>\n",
       "      <td>95.21</td>\n",
       "      <td>2018-03-09 23:00:00</td>\n",
       "    </tr>\n",
       "  </tbody>\n",
       "</table>\n",
       "<p>50826 rows × 7 columns</p>\n",
       "</div>"
      ],
      "text/plain": [
       "             A         B         C       D         E       G  \\\n",
       "9588       NaN  141.2900       NaN  175.04   36.0600  185.45   \n",
       "9589       NaN  111.7200       NaN  121.47   33.7000  193.17   \n",
       "9590       NaN  104.4100       NaN  153.56   56.8000  201.58   \n",
       "9591       NaN  102.0400       NaN  170.30   62.1000  187.04   \n",
       "9592       NaN   90.5000       NaN  168.61   53.4399  227.66   \n",
       "...        ...       ...       ...     ...       ...     ...   \n",
       "92241  46.6226   40.7500   51.1891  123.35  123.4600  180.13   \n",
       "92242  63.5702   83.7000   90.9469  127.00   75.6299  218.63   \n",
       "92243  78.3290  179.4600  124.1190  143.76   87.5499  113.49   \n",
       "92244  82.0569   94.9099   74.9377  101.26   85.8500   98.12   \n",
       "92245  65.4224   58.6800   69.2490  125.03   65.0900   95.21   \n",
       "\n",
       "                      time  \n",
       "9588   2009-01-22 13:00:00  \n",
       "9589   2009-01-22 14:00:00  \n",
       "9590   2009-01-22 15:00:00  \n",
       "9591   2009-01-22 16:00:00  \n",
       "9592   2009-01-22 17:00:00  \n",
       "...                    ...  \n",
       "92241  2018-03-09 19:00:00  \n",
       "92242  2018-03-09 20:00:00  \n",
       "92243  2018-03-09 21:00:00  \n",
       "92244  2018-03-09 22:00:00  \n",
       "92245  2018-03-09 23:00:00  \n",
       "\n",
       "[50826 rows x 7 columns]"
      ]
     },
     "execution_count": 11,
     "metadata": {},
     "output_type": "execute_result"
    }
   ],
   "source": [
    "poll_bool_B = df.B.notnull()\n",
    "pollution_data[poll_bool_B]"
   ]
  },
  {
   "cell_type": "markdown",
   "metadata": {},
   "source": [
    "#### Observation - Station B started recoding air pollution from 2009-01-02 13:00 hours"
   ]
  },
  {
   "cell_type": "code",
   "execution_count": 12,
   "metadata": {},
   "outputs": [
    {
     "data": {
      "text/html": [
       "<div>\n",
       "<style scoped>\n",
       "    .dataframe tbody tr th:only-of-type {\n",
       "        vertical-align: middle;\n",
       "    }\n",
       "\n",
       "    .dataframe tbody tr th {\n",
       "        vertical-align: top;\n",
       "    }\n",
       "\n",
       "    .dataframe thead th {\n",
       "        text-align: right;\n",
       "    }\n",
       "</style>\n",
       "<table border=\"1\" class=\"dataframe\">\n",
       "  <thead>\n",
       "    <tr style=\"text-align: right;\">\n",
       "      <th></th>\n",
       "      <th>A</th>\n",
       "      <th>B</th>\n",
       "      <th>C</th>\n",
       "      <th>D</th>\n",
       "      <th>E</th>\n",
       "      <th>G</th>\n",
       "      <th>time</th>\n",
       "    </tr>\n",
       "  </thead>\n",
       "  <tbody>\n",
       "    <tr>\n",
       "      <th>9072</th>\n",
       "      <td>NaN</td>\n",
       "      <td>NaN</td>\n",
       "      <td>NaN</td>\n",
       "      <td>427.16</td>\n",
       "      <td>147.2500</td>\n",
       "      <td>293.49</td>\n",
       "      <td>2009-01-01 01:00:00</td>\n",
       "    </tr>\n",
       "    <tr>\n",
       "      <th>9073</th>\n",
       "      <td>NaN</td>\n",
       "      <td>NaN</td>\n",
       "      <td>NaN</td>\n",
       "      <td>412.14</td>\n",
       "      <td>157.2900</td>\n",
       "      <td>259.58</td>\n",
       "      <td>2009-01-01 02:00:00</td>\n",
       "    </tr>\n",
       "    <tr>\n",
       "      <th>9074</th>\n",
       "      <td>NaN</td>\n",
       "      <td>NaN</td>\n",
       "      <td>NaN</td>\n",
       "      <td>405.36</td>\n",
       "      <td>162.8900</td>\n",
       "      <td>362.39</td>\n",
       "      <td>2009-01-01 03:00:00</td>\n",
       "    </tr>\n",
       "    <tr>\n",
       "      <th>9075</th>\n",
       "      <td>NaN</td>\n",
       "      <td>NaN</td>\n",
       "      <td>NaN</td>\n",
       "      <td>359.52</td>\n",
       "      <td>123.4500</td>\n",
       "      <td>374.37</td>\n",
       "      <td>2009-01-01 04:00:00</td>\n",
       "    </tr>\n",
       "    <tr>\n",
       "      <th>9076</th>\n",
       "      <td>NaN</td>\n",
       "      <td>NaN</td>\n",
       "      <td>NaN</td>\n",
       "      <td>365.58</td>\n",
       "      <td>119.4600</td>\n",
       "      <td>333.07</td>\n",
       "      <td>2009-01-01 05:00:00</td>\n",
       "    </tr>\n",
       "    <tr>\n",
       "      <th>...</th>\n",
       "      <td>...</td>\n",
       "      <td>...</td>\n",
       "      <td>...</td>\n",
       "      <td>...</td>\n",
       "      <td>...</td>\n",
       "      <td>...</td>\n",
       "      <td>...</td>\n",
       "    </tr>\n",
       "    <tr>\n",
       "      <th>92241</th>\n",
       "      <td>46.6226</td>\n",
       "      <td>40.7500</td>\n",
       "      <td>51.1891</td>\n",
       "      <td>123.35</td>\n",
       "      <td>123.4600</td>\n",
       "      <td>180.13</td>\n",
       "      <td>2018-03-09 19:00:00</td>\n",
       "    </tr>\n",
       "    <tr>\n",
       "      <th>92242</th>\n",
       "      <td>63.5702</td>\n",
       "      <td>83.7000</td>\n",
       "      <td>90.9469</td>\n",
       "      <td>127.00</td>\n",
       "      <td>75.6299</td>\n",
       "      <td>218.63</td>\n",
       "      <td>2018-03-09 20:00:00</td>\n",
       "    </tr>\n",
       "    <tr>\n",
       "      <th>92243</th>\n",
       "      <td>78.3290</td>\n",
       "      <td>179.4600</td>\n",
       "      <td>124.1190</td>\n",
       "      <td>143.76</td>\n",
       "      <td>87.5499</td>\n",
       "      <td>113.49</td>\n",
       "      <td>2018-03-09 21:00:00</td>\n",
       "    </tr>\n",
       "    <tr>\n",
       "      <th>92244</th>\n",
       "      <td>82.0569</td>\n",
       "      <td>94.9099</td>\n",
       "      <td>74.9377</td>\n",
       "      <td>101.26</td>\n",
       "      <td>85.8500</td>\n",
       "      <td>98.12</td>\n",
       "      <td>2018-03-09 22:00:00</td>\n",
       "    </tr>\n",
       "    <tr>\n",
       "      <th>92245</th>\n",
       "      <td>65.4224</td>\n",
       "      <td>58.6800</td>\n",
       "      <td>69.2490</td>\n",
       "      <td>125.03</td>\n",
       "      <td>65.0900</td>\n",
       "      <td>95.21</td>\n",
       "      <td>2018-03-09 23:00:00</td>\n",
       "    </tr>\n",
       "  </tbody>\n",
       "</table>\n",
       "<p>65715 rows × 7 columns</p>\n",
       "</div>"
      ],
      "text/plain": [
       "             A         B         C       D         E       G  \\\n",
       "9072       NaN       NaN       NaN  427.16  147.2500  293.49   \n",
       "9073       NaN       NaN       NaN  412.14  157.2900  259.58   \n",
       "9074       NaN       NaN       NaN  405.36  162.8900  362.39   \n",
       "9075       NaN       NaN       NaN  359.52  123.4500  374.37   \n",
       "9076       NaN       NaN       NaN  365.58  119.4600  333.07   \n",
       "...        ...       ...       ...     ...       ...     ...   \n",
       "92241  46.6226   40.7500   51.1891  123.35  123.4600  180.13   \n",
       "92242  63.5702   83.7000   90.9469  127.00   75.6299  218.63   \n",
       "92243  78.3290  179.4600  124.1190  143.76   87.5499  113.49   \n",
       "92244  82.0569   94.9099   74.9377  101.26   85.8500   98.12   \n",
       "92245  65.4224   58.6800   69.2490  125.03   65.0900   95.21   \n",
       "\n",
       "                      time  \n",
       "9072   2009-01-01 01:00:00  \n",
       "9073   2009-01-01 02:00:00  \n",
       "9074   2009-01-01 03:00:00  \n",
       "9075   2009-01-01 04:00:00  \n",
       "9076   2009-01-01 05:00:00  \n",
       "...                    ...  \n",
       "92241  2018-03-09 19:00:00  \n",
       "92242  2018-03-09 20:00:00  \n",
       "92243  2018-03-09 21:00:00  \n",
       "92244  2018-03-09 22:00:00  \n",
       "92245  2018-03-09 23:00:00  \n",
       "\n",
       "[65715 rows x 7 columns]"
      ]
     },
     "execution_count": 12,
     "metadata": {},
     "output_type": "execute_result"
    }
   ],
   "source": [
    "poll_bool_E = df.E.notnull()\n",
    "pollution_data[poll_bool_E]"
   ]
  },
  {
   "cell_type": "markdown",
   "metadata": {},
   "source": [
    "#### Observation - Station E started recording air pollution from 2009-01-01 01:00 hours"
   ]
  },
  {
   "cell_type": "code",
   "execution_count": 13,
   "metadata": {},
   "outputs": [
    {
     "data": {
      "text/html": [
       "<div>\n",
       "<style scoped>\n",
       "    .dataframe tbody tr th:only-of-type {\n",
       "        vertical-align: middle;\n",
       "    }\n",
       "\n",
       "    .dataframe tbody tr th {\n",
       "        vertical-align: top;\n",
       "    }\n",
       "\n",
       "    .dataframe thead th {\n",
       "        text-align: right;\n",
       "    }\n",
       "</style>\n",
       "<table border=\"1\" class=\"dataframe\">\n",
       "  <thead>\n",
       "    <tr style=\"text-align: right;\">\n",
       "      <th></th>\n",
       "      <th>A</th>\n",
       "      <th>B</th>\n",
       "      <th>C</th>\n",
       "      <th>D</th>\n",
       "      <th>E</th>\n",
       "      <th>G</th>\n",
       "      <th>time</th>\n",
       "    </tr>\n",
       "  </thead>\n",
       "  <tbody>\n",
       "    <tr>\n",
       "      <th>0</th>\n",
       "      <td>NaN</td>\n",
       "      <td>NaN</td>\n",
       "      <td>NaN</td>\n",
       "      <td>NaN</td>\n",
       "      <td>NaN</td>\n",
       "      <td>120.26</td>\n",
       "      <td>2008-01-01 00:00:00</td>\n",
       "    </tr>\n",
       "    <tr>\n",
       "      <th>1</th>\n",
       "      <td>NaN</td>\n",
       "      <td>NaN</td>\n",
       "      <td>124.8400</td>\n",
       "      <td>99.12</td>\n",
       "      <td>NaN</td>\n",
       "      <td>130.95</td>\n",
       "      <td>2008-01-01 01:00:00</td>\n",
       "    </tr>\n",
       "    <tr>\n",
       "      <th>2</th>\n",
       "      <td>NaN</td>\n",
       "      <td>NaN</td>\n",
       "      <td>107.6400</td>\n",
       "      <td>98.37</td>\n",
       "      <td>NaN</td>\n",
       "      <td>130.19</td>\n",
       "      <td>2008-01-01 02:00:00</td>\n",
       "    </tr>\n",
       "    <tr>\n",
       "      <th>3</th>\n",
       "      <td>NaN</td>\n",
       "      <td>NaN</td>\n",
       "      <td>107.8000</td>\n",
       "      <td>89.33</td>\n",
       "      <td>NaN</td>\n",
       "      <td>121.46</td>\n",
       "      <td>2008-01-01 03:00:00</td>\n",
       "    </tr>\n",
       "    <tr>\n",
       "      <th>4</th>\n",
       "      <td>NaN</td>\n",
       "      <td>NaN</td>\n",
       "      <td>100.6500</td>\n",
       "      <td>94.35</td>\n",
       "      <td>NaN</td>\n",
       "      <td>103.99</td>\n",
       "      <td>2008-01-01 04:00:00</td>\n",
       "    </tr>\n",
       "    <tr>\n",
       "      <th>...</th>\n",
       "      <td>...</td>\n",
       "      <td>...</td>\n",
       "      <td>...</td>\n",
       "      <td>...</td>\n",
       "      <td>...</td>\n",
       "      <td>...</td>\n",
       "      <td>...</td>\n",
       "    </tr>\n",
       "    <tr>\n",
       "      <th>92241</th>\n",
       "      <td>46.6226</td>\n",
       "      <td>40.7500</td>\n",
       "      <td>51.1891</td>\n",
       "      <td>123.35</td>\n",
       "      <td>123.4600</td>\n",
       "      <td>180.13</td>\n",
       "      <td>2018-03-09 19:00:00</td>\n",
       "    </tr>\n",
       "    <tr>\n",
       "      <th>92242</th>\n",
       "      <td>63.5702</td>\n",
       "      <td>83.7000</td>\n",
       "      <td>90.9469</td>\n",
       "      <td>127.00</td>\n",
       "      <td>75.6299</td>\n",
       "      <td>218.63</td>\n",
       "      <td>2018-03-09 20:00:00</td>\n",
       "    </tr>\n",
       "    <tr>\n",
       "      <th>92243</th>\n",
       "      <td>78.3290</td>\n",
       "      <td>179.4600</td>\n",
       "      <td>124.1190</td>\n",
       "      <td>143.76</td>\n",
       "      <td>87.5499</td>\n",
       "      <td>113.49</td>\n",
       "      <td>2018-03-09 21:00:00</td>\n",
       "    </tr>\n",
       "    <tr>\n",
       "      <th>92244</th>\n",
       "      <td>82.0569</td>\n",
       "      <td>94.9099</td>\n",
       "      <td>74.9377</td>\n",
       "      <td>101.26</td>\n",
       "      <td>85.8500</td>\n",
       "      <td>98.12</td>\n",
       "      <td>2018-03-09 22:00:00</td>\n",
       "    </tr>\n",
       "    <tr>\n",
       "      <th>92245</th>\n",
       "      <td>65.4224</td>\n",
       "      <td>58.6800</td>\n",
       "      <td>69.2490</td>\n",
       "      <td>125.03</td>\n",
       "      <td>65.0900</td>\n",
       "      <td>95.21</td>\n",
       "      <td>2018-03-09 23:00:00</td>\n",
       "    </tr>\n",
       "  </tbody>\n",
       "</table>\n",
       "<p>76992 rows × 7 columns</p>\n",
       "</div>"
      ],
      "text/plain": [
       "             A         B         C       D         E       G  \\\n",
       "0          NaN       NaN       NaN     NaN       NaN  120.26   \n",
       "1          NaN       NaN  124.8400   99.12       NaN  130.95   \n",
       "2          NaN       NaN  107.6400   98.37       NaN  130.19   \n",
       "3          NaN       NaN  107.8000   89.33       NaN  121.46   \n",
       "4          NaN       NaN  100.6500   94.35       NaN  103.99   \n",
       "...        ...       ...       ...     ...       ...     ...   \n",
       "92241  46.6226   40.7500   51.1891  123.35  123.4600  180.13   \n",
       "92242  63.5702   83.7000   90.9469  127.00   75.6299  218.63   \n",
       "92243  78.3290  179.4600  124.1190  143.76   87.5499  113.49   \n",
       "92244  82.0569   94.9099   74.9377  101.26   85.8500   98.12   \n",
       "92245  65.4224   58.6800   69.2490  125.03   65.0900   95.21   \n",
       "\n",
       "                      time  \n",
       "0      2008-01-01 00:00:00  \n",
       "1      2008-01-01 01:00:00  \n",
       "2      2008-01-01 02:00:00  \n",
       "3      2008-01-01 03:00:00  \n",
       "4      2008-01-01 04:00:00  \n",
       "...                    ...  \n",
       "92241  2018-03-09 19:00:00  \n",
       "92242  2018-03-09 20:00:00  \n",
       "92243  2018-03-09 21:00:00  \n",
       "92244  2018-03-09 22:00:00  \n",
       "92245  2018-03-09 23:00:00  \n",
       "\n",
       "[76992 rows x 7 columns]"
      ]
     },
     "execution_count": 13,
     "metadata": {},
     "output_type": "execute_result"
    }
   ],
   "source": [
    "poll_bool_G = df.G.notnull()\n",
    "pollution_data[poll_bool_G]"
   ]
  },
  {
   "cell_type": "markdown",
   "metadata": {},
   "source": [
    "###  Let us look at average ratings for all stations"
   ]
  },
  {
   "cell_type": "code",
   "execution_count": 14,
   "metadata": {},
   "outputs": [],
   "source": [
    "stations = ['A','B','C','D','E','G']\n",
    "df_stations = df[stations]"
   ]
  },
  {
   "cell_type": "code",
   "execution_count": 15,
   "metadata": {},
   "outputs": [
    {
     "name": "stdout",
     "output_type": "stream",
     "text": [
      "A    72.715512\n",
      "B    80.485886\n",
      "C    67.513649\n",
      "D    94.647895\n",
      "E    50.960180\n",
      "G    76.967020\n",
      "dtype: float64\n"
     ]
    }
   ],
   "source": [
    "stations_means = df_stations.mean(axis=0)\n",
    "print(stations_means)\n",
    "maxavg_station = stations_means.idxmax()"
   ]
  },
  {
   "cell_type": "code",
   "execution_count": 16,
   "metadata": {},
   "outputs": [
    {
     "data": {
      "image/png": "[encoded data removed]",
      "text/plain": [
       "<Figure size 432x288 with 1 Axes>"
      ]
     },
     "metadata": {},
     "output_type": "display_data"
    }
   ],
   "source": [
    "# Pie chart, where the slices will be ordered and plotted counter-clockwise:\n",
    "labels = stations\n",
    "sizes = stations_means\n",
    "explode = (0, 0, 0, 0.1,0,0)  # only \"explode\" the 4th slice (i.e. 'Hogs')\n",
    "\n",
    "fig1, ax1 = plt.subplots()\n",
    "ax1.pie(sizes, explode=explode, labels=labels, autopct='%1.1f%%',\n",
    "        shadow=True, startangle=90)\n",
    "ax1.axis('equal')  # Equal aspect ratio ensures that pie is drawn as a circle.\n",
    "plt.title(\"Average Air Pollution Rating of all Stations\")\n",
    "plt.show()"
   ]
  },
  {
   "cell_type": "markdown",
   "metadata": {},
   "source": [
    "#### Observation - Average Air pollution for Station D is highest"
   ]
  },
  {
   "cell_type": "markdown",
   "metadata": {},
   "source": [
    "### Let us take winters from last 5 years 13/14 to 17/18. Winters are from November to February (both included)"
   ]
  },
  {
   "cell_type": "markdown",
   "metadata": {},
   "source": [
    "#### Create a new column 'datetime' with datetime datatype from 'time' column"
   ]
  },
  {
   "cell_type": "code",
   "execution_count": 17,
   "metadata": {},
   "outputs": [
    {
     "data": {
      "text/html": [
       "<div>\n",
       "<style scoped>\n",
       "    .dataframe tbody tr th:only-of-type {\n",
       "        vertical-align: middle;\n",
       "    }\n",
       "\n",
       "    .dataframe tbody tr th {\n",
       "        vertical-align: top;\n",
       "    }\n",
       "\n",
       "    .dataframe thead th {\n",
       "        text-align: right;\n",
       "    }\n",
       "</style>\n",
       "<table border=\"1\" class=\"dataframe\">\n",
       "  <thead>\n",
       "    <tr style=\"text-align: right;\">\n",
       "      <th></th>\n",
       "      <th>A</th>\n",
       "      <th>B</th>\n",
       "      <th>C</th>\n",
       "      <th>D</th>\n",
       "      <th>E</th>\n",
       "      <th>G</th>\n",
       "      <th>time</th>\n",
       "      <th>datetime</th>\n",
       "    </tr>\n",
       "  </thead>\n",
       "  <tbody>\n",
       "    <tr>\n",
       "      <th>0</th>\n",
       "      <td>NaN</td>\n",
       "      <td>NaN</td>\n",
       "      <td>NaN</td>\n",
       "      <td>NaN</td>\n",
       "      <td>NaN</td>\n",
       "      <td>120.26</td>\n",
       "      <td>2008-01-01 00:00:00</td>\n",
       "      <td>2008-01-01 00:00:00</td>\n",
       "    </tr>\n",
       "    <tr>\n",
       "      <th>1</th>\n",
       "      <td>NaN</td>\n",
       "      <td>NaN</td>\n",
       "      <td>124.84</td>\n",
       "      <td>99.12</td>\n",
       "      <td>NaN</td>\n",
       "      <td>130.95</td>\n",
       "      <td>2008-01-01 01:00:00</td>\n",
       "      <td>2008-01-01 01:00:00</td>\n",
       "    </tr>\n",
       "    <tr>\n",
       "      <th>2</th>\n",
       "      <td>NaN</td>\n",
       "      <td>NaN</td>\n",
       "      <td>107.64</td>\n",
       "      <td>98.37</td>\n",
       "      <td>NaN</td>\n",
       "      <td>130.19</td>\n",
       "      <td>2008-01-01 02:00:00</td>\n",
       "      <td>2008-01-01 02:00:00</td>\n",
       "    </tr>\n",
       "    <tr>\n",
       "      <th>3</th>\n",
       "      <td>NaN</td>\n",
       "      <td>NaN</td>\n",
       "      <td>107.80</td>\n",
       "      <td>89.33</td>\n",
       "      <td>NaN</td>\n",
       "      <td>121.46</td>\n",
       "      <td>2008-01-01 03:00:00</td>\n",
       "      <td>2008-01-01 03:00:00</td>\n",
       "    </tr>\n",
       "    <tr>\n",
       "      <th>4</th>\n",
       "      <td>NaN</td>\n",
       "      <td>NaN</td>\n",
       "      <td>100.65</td>\n",
       "      <td>94.35</td>\n",
       "      <td>NaN</td>\n",
       "      <td>103.99</td>\n",
       "      <td>2008-01-01 04:00:00</td>\n",
       "      <td>2008-01-01 04:00:00</td>\n",
       "    </tr>\n",
       "  </tbody>\n",
       "</table>\n",
       "</div>"
      ],
      "text/plain": [
       "    A   B       C      D   E       G                 time            datetime\n",
       "0 NaN NaN     NaN    NaN NaN  120.26  2008-01-01 00:00:00 2008-01-01 00:00:00\n",
       "1 NaN NaN  124.84  99.12 NaN  130.95  2008-01-01 01:00:00 2008-01-01 01:00:00\n",
       "2 NaN NaN  107.64  98.37 NaN  130.19  2008-01-01 02:00:00 2008-01-01 02:00:00\n",
       "3 NaN NaN  107.80  89.33 NaN  121.46  2008-01-01 03:00:00 2008-01-01 03:00:00\n",
       "4 NaN NaN  100.65  94.35 NaN  103.99  2008-01-01 04:00:00 2008-01-01 04:00:00"
      ]
     },
     "execution_count": 17,
     "metadata": {},
     "output_type": "execute_result"
    }
   ],
   "source": [
    "df['datetime'] = pd.to_datetime(df['time'])\n",
    "df.head()"
   ]
  },
  {
   "cell_type": "markdown",
   "metadata": {},
   "source": [
    "#### Creating a boolean mask to extract rows in given time period"
   ]
  },
  {
   "cell_type": "code",
   "execution_count": 18,
   "metadata": {},
   "outputs": [
    {
     "name": "stdout",
     "output_type": "stream",
     "text": [
      "        A   B         C       D        E         G                 time  \\\n",
      "52843 NaN NaN  104.0780  158.88  78.6899  107.1200  2013-11-01 01:00:00   \n",
      "52844 NaN NaN   97.6692  156.04  69.9900   98.0000  2013-11-01 02:00:00   \n",
      "52845 NaN NaN   89.4867  133.10  64.7100   85.7400  2013-11-01 03:00:00   \n",
      "52846 NaN NaN   85.9109  114.33  64.6799   85.5699  2013-11-01 04:00:00   \n",
      "52847 NaN NaN   79.3772  104.47  65.6899   85.3500  2013-11-01 05:00:00   \n",
      "\n",
      "                 datetime  \n",
      "52843 2013-11-01 01:00:00  \n",
      "52844 2013-11-01 02:00:00  \n",
      "52845 2013-11-01 03:00:00  \n",
      "52846 2013-11-01 04:00:00  \n",
      "52847 2013-11-01 05:00:00  \n",
      "             A      B         C      D         E         G  \\\n",
      "92025  58.9193  66.35   68.9050  87.59  124.6600  118.3900   \n",
      "92026  56.3044  57.78   67.5985  86.74  143.1900  109.0200   \n",
      "92027  59.1438  53.96   73.1119  77.62   98.5599   99.1699   \n",
      "92028  60.7943  62.31   74.5730  69.25   89.5499   98.7100   \n",
      "92029  60.5220  62.73  100.3550  70.09   88.6499  102.3100   \n",
      "\n",
      "                      time            datetime  \n",
      "92025  2018-02-28 19:00:00 2018-02-28 19:00:00  \n",
      "92026  2018-02-28 20:00:00 2018-02-28 20:00:00  \n",
      "92027  2018-02-28 21:00:00 2018-02-28 21:00:00  \n",
      "92028  2018-02-28 22:00:00 2018-02-28 22:00:00  \n",
      "92029  2018-02-28 23:00:00 2018-02-28 23:00:00  \n"
     ]
    }
   ],
   "source": [
    "start_date = np.datetime64('2013-11-01 00:00')\n",
    "end_date = np.datetime64('2018-02-28 23:00')\n",
    "mask = (df['datetime'] > start_date) & (df['datetime'] <= end_date)\n",
    "df_5 = df.loc[mask]\n",
    "print(df_5.head())\n",
    "print(df_5.tail())"
   ]
  },
  {
   "cell_type": "code",
   "execution_count": 19,
   "metadata": {},
   "outputs": [],
   "source": [
    "\n",
    "df_5 = df_5.set_index('datetime')"
   ]
  },
  {
   "cell_type": "code",
   "execution_count": 20,
   "metadata": {},
   "outputs": [
    {
     "data": {
      "text/html": [
       "<div>\n",
       "<style scoped>\n",
       "    .dataframe tbody tr th:only-of-type {\n",
       "        vertical-align: middle;\n",
       "    }\n",
       "\n",
       "    .dataframe tbody tr th {\n",
       "        vertical-align: top;\n",
       "    }\n",
       "\n",
       "    .dataframe thead th {\n",
       "        text-align: right;\n",
       "    }\n",
       "</style>\n",
       "<table border=\"1\" class=\"dataframe\">\n",
       "  <thead>\n",
       "    <tr style=\"text-align: right;\">\n",
       "      <th></th>\n",
       "      <th>A</th>\n",
       "      <th>B</th>\n",
       "      <th>C</th>\n",
       "      <th>D</th>\n",
       "      <th>E</th>\n",
       "      <th>G</th>\n",
       "      <th>time</th>\n",
       "      <th>Year</th>\n",
       "      <th>Month</th>\n",
       "    </tr>\n",
       "    <tr>\n",
       "      <th>datetime</th>\n",
       "      <th></th>\n",
       "      <th></th>\n",
       "      <th></th>\n",
       "      <th></th>\n",
       "      <th></th>\n",
       "      <th></th>\n",
       "      <th></th>\n",
       "      <th></th>\n",
       "      <th></th>\n",
       "    </tr>\n",
       "  </thead>\n",
       "  <tbody>\n",
       "    <tr>\n",
       "      <th>2013-11-01 01:00:00</th>\n",
       "      <td>NaN</td>\n",
       "      <td>NaN</td>\n",
       "      <td>104.0780</td>\n",
       "      <td>158.88</td>\n",
       "      <td>78.6899</td>\n",
       "      <td>107.12</td>\n",
       "      <td>2013-11-01 01:00:00</td>\n",
       "      <td>2013</td>\n",
       "      <td>11</td>\n",
       "    </tr>\n",
       "    <tr>\n",
       "      <th>2013-11-01 02:00:00</th>\n",
       "      <td>NaN</td>\n",
       "      <td>NaN</td>\n",
       "      <td>97.6692</td>\n",
       "      <td>156.04</td>\n",
       "      <td>69.9900</td>\n",
       "      <td>98.00</td>\n",
       "      <td>2013-11-01 02:00:00</td>\n",
       "      <td>2013</td>\n",
       "      <td>11</td>\n",
       "    </tr>\n",
       "    <tr>\n",
       "      <th>2013-11-01 03:00:00</th>\n",
       "      <td>NaN</td>\n",
       "      <td>NaN</td>\n",
       "      <td>89.4867</td>\n",
       "      <td>133.10</td>\n",
       "      <td>64.7100</td>\n",
       "      <td>85.74</td>\n",
       "      <td>2013-11-01 03:00:00</td>\n",
       "      <td>2013</td>\n",
       "      <td>11</td>\n",
       "    </tr>\n",
       "  </tbody>\n",
       "</table>\n",
       "</div>"
      ],
      "text/plain": [
       "                      A   B         C       D        E       G  \\\n",
       "datetime                                                         \n",
       "2013-11-01 01:00:00 NaN NaN  104.0780  158.88  78.6899  107.12   \n",
       "2013-11-01 02:00:00 NaN NaN   97.6692  156.04  69.9900   98.00   \n",
       "2013-11-01 03:00:00 NaN NaN   89.4867  133.10  64.7100   85.74   \n",
       "\n",
       "                                    time  Year  Month  \n",
       "datetime                                               \n",
       "2013-11-01 01:00:00  2013-11-01 01:00:00  2013     11  \n",
       "2013-11-01 02:00:00  2013-11-01 02:00:00  2013     11  \n",
       "2013-11-01 03:00:00  2013-11-01 03:00:00  2013     11  "
      ]
     },
     "execution_count": 20,
     "metadata": {},
     "output_type": "execute_result"
    }
   ],
   "source": [
    "df_5['Year'] = df_5.index.year\n",
    "df_5['Month'] = df_5.index.month\n",
    "\n",
    "df_5.sample(5, random_state=0)\n",
    "df_5.head(3)"
   ]
  },
  {
   "cell_type": "code",
   "execution_count": 21,
   "metadata": {},
   "outputs": [],
   "source": [
    "highest_dict = {}\n",
    "cols = ['A','B','C','D','E','G']\n",
    "df_5_st = df_5[cols]"
   ]
  },
  {
   "cell_type": "code",
   "execution_count": 37,
   "metadata": {},
   "outputs": [
    {
     "name": "stdout",
     "output_type": "stream",
     "text": [
      "A    144.511124\n",
      "B           NaN\n",
      "C    139.106181\n",
      "D    176.522595\n",
      "E     92.673012\n",
      "G    141.443444\n",
      "dtype: float64\n",
      "D 176.52259539360614\n"
     ]
    }
   ],
   "source": [
    "winter_2013 = df_5_st.loc['2013-11':'2014-02'].mean()\n",
    "print(winter_2013)\n",
    "print(winter_2013.idxmax(), max(winter_2013))\n",
    "highest_dict[winter_2013.idxmax()+'_2013'] = max(winter_2013)"
   ]
  },
  {
   "cell_type": "code",
   "execution_count": 23,
   "metadata": {},
   "outputs": [
    {
     "name": "stdout",
     "output_type": "stream",
     "text": [
      "A    105.178142\n",
      "B    140.492197\n",
      "C     86.766333\n",
      "D    160.078117\n",
      "E     66.687691\n",
      "G    111.861671\n",
      "dtype: float64\n"
     ]
    }
   ],
   "source": [
    "winter_2014 = df_5_st.loc['2014-11':'2015-02'].mean()\n",
    "print(winter_2014)\n",
    "highest_dict[winter_2014.idxmax()+'_2014'] = max(winter_2014)"
   ]
  },
  {
   "cell_type": "code",
   "execution_count": 24,
   "metadata": {},
   "outputs": [
    {
     "name": "stdout",
     "output_type": "stream",
     "text": [
      "A    129.589777\n",
      "B    124.862831\n",
      "C    109.650341\n",
      "D    159.029263\n",
      "E     54.965179\n",
      "G     97.367730\n",
      "dtype: float64\n"
     ]
    }
   ],
   "source": [
    "winter_2015 = df_5_st.loc['2015-11':'2016-02'].mean()\n",
    "print(winter_2015)\n",
    "highest_dict[winter_2015.idxmax()+'_2015'] = max(winter_2015)"
   ]
  },
  {
   "cell_type": "code",
   "execution_count": 25,
   "metadata": {},
   "outputs": [
    {
     "name": "stdout",
     "output_type": "stream",
     "text": [
      "A    121.626104\n",
      "B    160.724159\n",
      "C    136.426507\n",
      "D    173.605266\n",
      "E    104.880868\n",
      "G    169.711877\n",
      "dtype: float64\n"
     ]
    }
   ],
   "source": [
    "winter_2016 = df_5_st.loc['2016-11':'2017-02'].mean()\n",
    "print(winter_2016)\n",
    "highest_dict[winter_2016.idxmax()+'_2016'] = max(winter_2016)"
   ]
  },
  {
   "cell_type": "code",
   "execution_count": 26,
   "metadata": {},
   "outputs": [
    {
     "name": "stdout",
     "output_type": "stream",
     "text": [
      "A     80.915753\n",
      "B     87.897314\n",
      "C     89.700955\n",
      "D    123.654478\n",
      "E     69.889799\n",
      "G    121.630034\n",
      "dtype: float64\n"
     ]
    }
   ],
   "source": [
    "winter_2017 = df_5_st.loc['2017-11':'2018-02'].mean()\n",
    "print(winter_2017)\n",
    "highest_dict[winter_2017.idxmax()+'_2017'] = max(winter_2017)"
   ]
  },
  {
   "cell_type": "code",
   "execution_count": 27,
   "metadata": {},
   "outputs": [
    {
     "data": {
      "text/plain": [
       "{'D_2013': 176.52259539360614,\n",
       " 'D_2014': 160.0781172715054,\n",
       " 'D_2015': 159.02926307538306,\n",
       " 'D_2016': 173.6052659797298,\n",
       " 'D_2017': 123.6544776094273}"
      ]
     },
     "execution_count": 27,
     "metadata": {},
     "output_type": "execute_result"
    }
   ],
   "source": [
    "highest_dict"
   ]
  },
  {
   "cell_type": "code",
   "execution_count": 28,
   "metadata": {},
   "outputs": [
    {
     "name": "stdout",
     "output_type": "stream",
     "text": [
      "{'D_2013': 176.52259539360614, 'D_2016': 173.6052659797298, 'D_2014': 160.0781172715054, 'D_2015': 159.02926307538306, 'D_2017': 123.6544776094273}\n"
     ]
    }
   ],
   "source": [
    "highest_station = {k:v for k,v in sorted(highest_dict.items(), key=lambda item: item[1], reverse=True)}\n",
    "print(highest_station)"
   ]
  },
  {
   "cell_type": "code",
   "execution_count": 29,
   "metadata": {},
   "outputs": [
    {
     "data": {
      "image/png": "[encoded data removed]",
      "text/plain": [
       "<Figure size 432x288 with 1 Axes>"
      ]
     },
     "metadata": {
      "needs_background": "light"
     },
     "output_type": "display_data"
    }
   ],
   "source": [
    "y_pos = highest_dict.values()\n",
    "x_pos = highest_dict.keys()\n",
    "\n",
    "plt.bar(x_pos, y_pos, color='cyan', label='Ratings')\n",
    "plt.xlabel(\"Station Name-Year\")\n",
    "plt.ylabel(\"Pollution Ratings\")\n",
    "plt.title(\"Highest Air Pollution ratings of Stations from years 2013-2018 winters\")\n",
    "plt.legend()\n",
    "plt.show()"
   ]
  },
  {
   "cell_type": "markdown",
   "metadata": {},
   "source": [
    "#### - Observation - Winter of 2013-14 has been worst so far with station D reporting 176 air pollution index. Station D has always been highest in all 5 years."
   ]
  },
  {
   "cell_type": "code",
   "execution_count": null,
   "metadata": {},
   "outputs": [],
   "source": []
  },
  {
   "cell_type": "markdown",
   "metadata": {},
   "source": [
    "### Make a horizontal bar chart showing how many days in total the measurements have been over 50 for each. Same chart for over 200.\n"
   ]
  },
  {
   "cell_type": "code",
   "execution_count": 38,
   "metadata": {},
   "outputs": [
    {
     "data": {
      "text/html": [
       "<div>\n",
       "<style scoped>\n",
       "    .dataframe tbody tr th:only-of-type {\n",
       "        vertical-align: middle;\n",
       "    }\n",
       "\n",
       "    .dataframe tbody tr th {\n",
       "        vertical-align: top;\n",
       "    }\n",
       "\n",
       "    .dataframe thead th {\n",
       "        text-align: right;\n",
       "    }\n",
       "</style>\n",
       "<table border=\"1\" class=\"dataframe\">\n",
       "  <thead>\n",
       "    <tr style=\"text-align: right;\">\n",
       "      <th></th>\n",
       "      <th>A</th>\n",
       "      <th>B</th>\n",
       "      <th>C</th>\n",
       "      <th>D</th>\n",
       "      <th>E</th>\n",
       "      <th>G</th>\n",
       "      <th>Year</th>\n",
       "      <th>Month</th>\n",
       "    </tr>\n",
       "    <tr>\n",
       "      <th>datetime</th>\n",
       "      <th></th>\n",
       "      <th></th>\n",
       "      <th></th>\n",
       "      <th></th>\n",
       "      <th></th>\n",
       "      <th></th>\n",
       "      <th></th>\n",
       "      <th></th>\n",
       "    </tr>\n",
       "  </thead>\n",
       "  <tbody>\n",
       "    <tr>\n",
       "      <th>2013-11-01</th>\n",
       "      <td>111.532964</td>\n",
       "      <td>NaN</td>\n",
       "      <td>100.749161</td>\n",
       "      <td>149.761291</td>\n",
       "      <td>79.264752</td>\n",
       "      <td>91.201287</td>\n",
       "      <td>2013</td>\n",
       "      <td>11</td>\n",
       "    </tr>\n",
       "    <tr>\n",
       "      <th>2013-11-02</th>\n",
       "      <td>126.690713</td>\n",
       "      <td>NaN</td>\n",
       "      <td>125.510496</td>\n",
       "      <td>182.244583</td>\n",
       "      <td>104.821229</td>\n",
       "      <td>121.738313</td>\n",
       "      <td>2013</td>\n",
       "      <td>11</td>\n",
       "    </tr>\n",
       "    <tr>\n",
       "      <th>2013-11-03</th>\n",
       "      <td>168.643346</td>\n",
       "      <td>NaN</td>\n",
       "      <td>189.409375</td>\n",
       "      <td>224.001250</td>\n",
       "      <td>115.920817</td>\n",
       "      <td>177.394163</td>\n",
       "      <td>2013</td>\n",
       "      <td>11</td>\n",
       "    </tr>\n",
       "  </tbody>\n",
       "</table>\n",
       "</div>"
      ],
      "text/plain": [
       "                     A   B           C           D           E           G  \\\n",
       "datetime                                                                     \n",
       "2013-11-01  111.532964 NaN  100.749161  149.761291   79.264752   91.201287   \n",
       "2013-11-02  126.690713 NaN  125.510496  182.244583  104.821229  121.738313   \n",
       "2013-11-03  168.643346 NaN  189.409375  224.001250  115.920817  177.394163   \n",
       "\n",
       "            Year  Month  \n",
       "datetime                 \n",
       "2013-11-01  2013     11  \n",
       "2013-11-02  2013     11  \n",
       "2013-11-03  2013     11  "
      ]
     },
     "execution_count": 38,
     "metadata": {},
     "output_type": "execute_result"
    }
   ],
   "source": [
    "days = pd.date_range('01/11/2008', periods=4, freq='D')\n",
    "df_5_daily = df_5.resample('D').mean()\n",
    "df_5_daily.head(3)"
   ]
  },
  {
   "cell_type": "code",
   "execution_count": 31,
   "metadata": {},
   "outputs": [
    {
     "data": {
      "text/plain": [
       "pandas.core.frame.DataFrame"
      ]
     },
     "execution_count": 31,
     "metadata": {},
     "output_type": "execute_result"
    }
   ],
   "source": [
    "type(df_5_daily)"
   ]
  },
  {
   "cell_type": "markdown",
   "metadata": {},
   "source": [
    "* In terms of rating, higher means worse air quality. Anything over 50 is considered not good. Anything over 200 is considered hazardous."
   ]
  },
  {
   "cell_type": "code",
   "execution_count": 32,
   "metadata": {},
   "outputs": [],
   "source": [
    "daily_dict_50 = {}\n",
    "A50 = df_5_daily['A'] > 50\n",
    "daily_dict_50['A'] = A50.value_counts()[True]\n",
    "B50 = df_5_daily['B'] > 50\n",
    "daily_dict_50['B'] =B50.value_counts()[True]\n",
    "C50 = df_5_daily['C'] > 50\n",
    "daily_dict_50['C'] =C50.value_counts()[True]\n",
    "D50 = df_5_daily['D'] > 50\n",
    "daily_dict_50['D'] =D50.value_counts()[True]\n",
    "E50 = df_5_daily['E'] > 50\n",
    "daily_dict_50['E'] =E50.value_counts()[True]\n",
    "G50 = df_5_daily['G'] > 50\n",
    "daily_dict_50['G'] =G50.value_counts()[True]"
   ]
  },
  {
   "cell_type": "code",
   "execution_count": 33,
   "metadata": {},
   "outputs": [
    {
     "data": {
      "text/plain": [
       "{'A': 644, 'B': 692, 'C': 618, 'D': 793, 'E': 411, 'G': 700}"
      ]
     },
     "execution_count": 33,
     "metadata": {},
     "output_type": "execute_result"
    }
   ],
   "source": [
    "daily_dict_50"
   ]
  },
  {
   "cell_type": "code",
   "execution_count": 34,
   "metadata": {},
   "outputs": [],
   "source": [
    "daily_dict_200 = {}\n",
    "A50 = df_5_daily['A'] > 200\n",
    "daily_dict_200['A'] = A50.value_counts()[True]\n",
    "B50 = df_5_daily['B'] > 200\n",
    "daily_dict_200['B'] =B50.value_counts()[True]\n",
    "C50 = df_5_daily['C'] > 200\n",
    "daily_dict_200['C'] =C50.value_counts()[True]\n",
    "D50 = df_5_daily['D'] > 200\n",
    "daily_dict_200['D'] =D50.value_counts()[True]\n",
    "E50 = df_5_daily['E'] > 200\n",
    "daily_dict_200['E'] =E50.value_counts()[True]\n",
    "G50 = df_5_daily['G'] > 200\n",
    "daily_dict_200['G'] =G50.value_counts()[True]"
   ]
  },
  {
   "cell_type": "code",
   "execution_count": 35,
   "metadata": {},
   "outputs": [
    {
     "data": {
      "text/plain": [
       "{'A': 79, 'B': 88, 'C': 75, 'D': 183, 'E': 15, 'G': 109}"
      ]
     },
     "execution_count": 35,
     "metadata": {},
     "output_type": "execute_result"
    }
   ],
   "source": [
    "daily_dict_200"
   ]
  },
  {
   "cell_type": "code",
   "execution_count": 36,
   "metadata": {},
   "outputs": [
    {
     "data": {
      "text/plain": [
       "<Figure size 1152x864 with 0 Axes>"
      ]
     },
     "metadata": {},
     "output_type": "display_data"
    },
    {
     "data": {
      "image/png": "[encoded data removed]",
      "text/plain": [
       "<Figure size 432x288 with 1 Axes>"
      ]
     },
     "metadata": {
      "needs_background": "light"
     },
     "output_type": "display_data"
    }
   ],
   "source": [
    "x = cols\n",
    "rating_200 = daily_dict_200.values()\n",
    "rating_50 = daily_dict_50.values()\n",
    "width = 0.4\n",
    "\n",
    "ind = np.arange(len(x))\n",
    "plt.figure(figsize=(16, 12))\n",
    "fig, ax = plt.subplots()\n",
    "ax.barh(ind, rating_200, width, color='red', label='> 200')\n",
    "ax.barh(ind + width, rating_50, width, color='green', label='> 50')\n",
    "\n",
    "ax.set(yticks=ind + width, yticklabels=cols, ylim=[2*width - 1, len(cols)])\n",
    "ax.legend()\n",
    "ax.set_ylabel(\"Air Pollution Stations\")\n",
    "ax.set_xlabel(\"Air Pollution Rating\")\n",
    "ax.set_title(\"Air Pollution Rating for various stations\")\n",
    "\n",
    "plt.show()"
   ]
  },
  {
   "cell_type": "code",
   "execution_count": null,
   "metadata": {},
   "outputs": [],
   "source": []
  },
  {
   "cell_type": "code",
   "execution_count": null,
   "metadata": {},
   "outputs": [],
   "source": []
  }
 ],
 "metadata": {
  "kernelspec": {
   "display_name": "Python 3",
   "language": "python",
   "name": "python3"
  },
  "language_info": {
   "codemirror_mode": {
    "name": "ipython",
    "version": 3
   },
   "file_extension": ".py",
   "mimetype": "text/x-python",
   "name": "python",
   "nbconvert_exporter": "python",
   "pygments_lexer": "ipython3",
   "version": "3.7.0"
  }
 },
 "nbformat": 4,
 "nbformat_minor": 2
}
